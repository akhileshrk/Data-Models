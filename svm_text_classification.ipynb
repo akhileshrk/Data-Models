{
 "cells": [
  {
   "cell_type": "code",
   "execution_count": null,
   "metadata": {},
   "outputs": [],
   "source": [
    "import pandas as pd\n",
    "from sklearn.feature_extraction.text import TfidfVectorizer\n",
    "from sklearn.model_selection import train_test_split\n",
    "from sklearn.svm import SVC\n",
    "from sklearn.metrics import classification_report, accuracy_score\n",
    "E:\\SVM_Text_Classification\\venv\\dummy_agriculture_data_10k.csv\n",
    "# Load the dataset\n",
    "file_path = 'E:\\SVM_Text_Classification\\venv\\dummy_agriculture_data_10k.csv'\n",
    "data = pd.read_csv(file_path)\n",
    "\n",
    "# Check if necessary columns are present\n",
    "if 'Text' not in data.columns or 'Label' not in data.columns:\n",
    "    raise ValueError(\"The dataset must contain 'Text' and 'Label' columns.\")\n",
    "\n",
    "# Data preprocessing\n",
    "X = data['Text']\n",
    "y = data['Label']\n",
    "\n",
    "# Convert text data to TF-IDF features\n",
    "vectorizer = TfidfVectorizer(max_features=1000, stop_words='english')\n",
    "X_tfidf = vectorizer.fit_transform(X)\n",
    "\n",
    "# Split the dataset\n",
    "X_train, X_test, y_train, y_test = train_test_split(X_tfidf, y, test_size=0.2, random_state=42)\n",
    "\n",
    "# Train the SVM model\n",
    "model = SVC(kernel='linear', random_state=42)\n",
    "model.fit(X_train, y_train)\n",
    "\n",
    "# Make predictions\n",
    "y_pred = model.predict(X_test)\n",
    "\n",
    "# Evaluate the model\n",
    "print(\"Classification Report:\")\n",
    "print(classification_report(y_test, y_pred))\n",
    "\n",
    "print(f\"Accuracy: {accuracy_score(y_test, y_pred) * 100:.2f}%\")\n",
    "\n",
    "# Save the vectorizer and model for later use\n",
    "import joblib\n",
    "joblib.dump(vectorizer, 'tfidf_vectorizer.pkl')\n",
    "joblib.dump(model, 'svm_model.pkl')\n",
    "\n",
    "print(\"\\nVectorizer and model saved as 'tfidf_vectorizer.pkl' and 'svm_model.pkl'.\")"
   ]
  },
  {
   "cell_type": "code",
   "execution_count": null,
   "metadata": {},
   "outputs": [],
   "source": [
    "Outputs\n",
    "The script will output:\n",
    "\n",
    "Classification report and accuracy.\n",
    "Saved vectorizer (tfidf_vectorizer.pkl) and model (svm_model.pkl) for future use"
   ]
  }
 ],
 "metadata": {
  "language_info": {
   "name": "python"
  }
 },
 "nbformat": 4,
 "nbformat_minor": 2
}
